{
 "cells": [
  {
   "cell_type": "markdown",
   "metadata": {},
   "source": [
    "# Librerías y definición de funciones"
   ]
  },
  {
   "cell_type": "code",
   "execution_count": 22,
   "metadata": {},
   "outputs": [],
   "source": [
    "import os\n",
    "import numpy as np\n",
    "import nibabel as nib\n",
    "import random\n",
    "from dipy.io.streamline import load_tractogram\n",
    "from dipy.tracking.streamline import Streamlines\n",
    "from dipy.segment.clustering import QuickBundles\n",
    "from dipy.segment.metric import IdentityFeature\n",
    "from dipy.segment.metric import AveragePointwiseEuclideanMetric\n",
    "from dipy.io.pickles import save_pickle\n",
    "from dipy.io.pickles import load_pickle\n",
    "from dipy.data import get_fnames\n",
    "from dipy.viz import window, actor\n",
    "import time\n",
    "import utils.bundleTools as bt\n",
    "import utils.bundleTools3 as bt3\n",
    "\n",
    "def display(streamlines, clusters=False, ids=False, hd=False, color = 'tab20'):\n",
    "    ren = window.Renderer()\n",
    "    ren.background((1, 1, 1))\n",
    "    if(clusters):\n",
    "        colormap = actor.create_colormap(np.arange(len(ids)), name=color, auto=True)\n",
    "        #colormap = actor.create_colormap(np.arange(int(len(ids)/2)+1), name='tab20', auto=True)\n",
    "        #colormap = [*colormap[:-1],*colormap[:-1], colormap[-1]]\n",
    "\n",
    "        stream = []\n",
    "        colors = []\n",
    "\n",
    "        for i,id_ in enumerate(ids):\n",
    "            for streamline in clusters[id_]:\n",
    "                stream.append(streamlines[streamline])\n",
    "                colors.append(colormap[i])#*len(streamlines[streamline]))\n",
    "        if(hd):\n",
    "            ren.add(actor.streamtube(stream, linewidth=0.1, colors=colors))\n",
    "        else:\n",
    "            ren.add(actor.line(stream, colors))\n",
    "            \n",
    "    else:\n",
    "        if(hd):\n",
    "            #ren.add(actor.line(streamlines, window.colors.black, opacity=0.05))\n",
    "            ren.add(actor.streamtube(streamlines, linewidth=0.1, colors=[(0.4,0.698,1)]*len(streamlines)))\n",
    "        else:\n",
    "            ren.add(actor.line(streamlines))\n",
    "\n",
    "    window.show(ren, size=(1200, 900))\n",
    "    \n",
    "byte_order = \"DCBA\"\n",
    "\n",
    "def get_centroids(brain, sub, remove_little_ones=False, size=False, nearest=False):\n",
    "    # remove_little_ones: Cantidad mínima de fibras por cluster (para eliminar clusters poco densos). \n",
    "    # size: Distancia mínima entre los dos primeros puntos del centroide (para eliminar fibras muy cortas).\n",
    "    # nearest: Sólo se selecciona un nearest% (porcentaje) aleatorio de las fibras del cluster (para disminuir la carga computacional).\n",
    "    \n",
    "    centroids = []\n",
    "    original_data = []\n",
    "    \n",
    "    og_centroids = np.array(bt3.read_bundle_severalbundles(path + sub + '/Talairach/centroids_Tal.bundles')[0])\n",
    "    \n",
    "    if(remove_little_ones):\n",
    "        removed1 = 0\n",
    "        removed2 = 0\n",
    "        for i,cluster in enumerate(brain):\n",
    "            sz = len(cluster)\n",
    "            if(sz >= remove_little_ones):\n",
    "                centroid = og_centroids[i][0]\n",
    "                if np.linalg.norm(centroid[0]-centroid[1]) > size:\n",
    "                    centroids.append(centroid)\n",
    "                    selected = random.sample(range(sz),int(sz*(nearest/100)))\n",
    "                    original_data.append(np.array(cluster)[selected])\n",
    "                else:\n",
    "                    removed2 +=1\n",
    "            else:\n",
    "                removed1+=1\n",
    "        print(str(removed1)+' and '+str(removed2)+' removed from '+str(len(brain))+'. '+str(len(centroids))+' remaining centroids.'+str(len(np.concatenate(brain)))+' remaining fibers')\n",
    "    else:\n",
    "        for cluster in brain:\n",
    "            centroids.append(get_centroid(cluster))\n",
    "            original_data.append(np.array(cluster))\n",
    "    return centroids, np.array(original_data)\n",
    "\n",
    "def random_palette(n):\n",
    "    return [(random.randrange(0, 255), random.randrange(0, 255), random.randrange(0, 255)) for i in range(n)]\n",
    "\n",
    "def write_hie(path,names,colors):\n",
    "    f = open(path,\"w\")\n",
    "    f.write(\"# tree 1.0\\n\\n*BEGIN TREE hierarchy\\ngraph_syntax RoiArg\\n\\n*BEGIN TREE fold_name\\nname ALL\\n\\n\")\n",
    "    for i,n in enumerate(names):\n",
    "        f.write(\"*BEGIN TREE fold_name\\n\")\n",
    "        f.write(\"name \"+n+\"\\n\")\n",
    "        f.write(\"color \"+str(colors[i][0])+\" \"+str(colors[i][1])+\" \"+str(colors[i][2])+\"\\n\\n\")\n",
    "        f.write(\"*END\\n\\n\")\n",
    "    f.write(\"*END\\n\\n*END\\n\\n*END\\n\\n\")\n",
    "    f.close()\n",
    "\n",
    "\n",
    "def write_header(path,bnames,intervals,dim,nfibers):\n",
    "    f = open(path,\"w\")\n",
    "    f.write(\"attributes = {\\n    'binary' : 1,\\n    'bundles' : \")\n",
    "    f.write(str([val for pair in zip(bnames, intervals) for val in pair])+\",\\n\")\n",
    "    f.write(\"    'byte_order' : \"+'\\''+byte_order+'\\',\\n')\n",
    "    f.write(\"    'curves_count' : \"+str(nfibers)+\",\\n\")\n",
    "    f.write(\"    'data_file_name' : \"+\"\\'*\"+os.path.splitext(path+\"data\")[1]+\"\\',\\n\")\n",
    "    f.write(\"    'format' : 'bundles_1.0',\\n\")\n",
    "    f.write(\"    'space_dimension' : \"+str(dim)+\"\\n  }\")\n",
    "    f.close()\n",
    "\n",
    "def write_data(data_path,bundles,dim):\n",
    "    f = open(data_path,\"wb\")\n",
    "    for b in bundles:\n",
    "        for fiber in b:\n",
    "            f.write(np.array([len(fiber)],dtype=np.int32).tostring())\n",
    "            f.write(fiber.ravel().tostring())\n",
    "    f.close()\n",
    "\n",
    "def write_bundles(path,bundles,bnames=None,colors=None):\n",
    "    if bnames == None:\n",
    "        bnames = [''+str(i)+'' for i in range(len(bundles))]\n",
    "    bnames = [''+n.strip()+'' for n in bnames]\n",
    "    data_path = path+\"data\"\n",
    "    dim = len(bundles[0][0][0])\n",
    "    nfibers = sum(len(b) for b in bundles)\n",
    "    intervals = [0]\n",
    "    for i in range(1,len(bundles),1):\n",
    "        intervals.append(intervals[i-1]+len(bundles[i-1])) \n",
    "\n",
    "    write_header(path,bnames,intervals,dim,nfibers)\n",
    "    write_data(data_path,bundles,dim)\n",
    "    if colors == None:\n",
    "        colors = random_palette(len(bnames))\n",
    "    write_hie(os.path.splitext(path)[0]+\".hie\",bnames,colors)"
   ]
  },
  {
   "cell_type": "code",
   "execution_count": 7,
   "metadata": {},
   "outputs": [],
   "source": [
    "import utils.bundleTools3 as bt3\n",
    "\n",
    "centroids = []\n",
    "\n",
    "for i in range(1,80):\n",
    "    centroids.append([])"
   ]
  },
  {
   "cell_type": "code",
   "execution_count": 8,
   "metadata": {},
   "outputs": [],
   "source": [
    "for i in range(len(intra_centroids)):\n",
    "    to = ids[i] - 1\n",
    "    \n",
    "    centroids[to].append(intra_centroids[i])"
   ]
  },
  {
   "cell_type": "code",
   "execution_count": 50,
   "metadata": {},
   "outputs": [],
   "source": [
    "lista = []\n",
    "\n",
    "for i in range(1,80):\n",
    "    lista.append(str(i))"
   ]
  },
  {
   "cell_type": "code",
   "execution_count": 52,
   "metadata": {},
   "outputs": [],
   "source": [
    "bt3.write_bundle_severalbundles('all_centroids_2.bundles', centroids, lista)"
   ]
  },
  {
   "cell_type": "markdown",
   "metadata": {},
   "source": [
    "# Clustering ínter-sujeto con QuickBundles"
   ]
  },
  {
   "cell_type": "markdown",
   "metadata": {},
   "source": [
    "__Guardado de datos en archivos .npy__"
   ]
  },
  {
   "cell_type": "code",
   "execution_count": null,
   "metadata": {},
   "outputs": [],
   "source": [
    "# Directorio con clusters intra-sujeto calculados con FFClust\n",
    "path = 'data/79subjects/clustered_2/'\n",
    "\n",
    "all_centroids = []    #Arreglo que contiene todos los centroides\n",
    "all_data = []         #Arreglo que contiene todas las fibras\n",
    "ids = []              #Arreglo que contiene todos los identificadores (a qué sujeto pertenece cada cluster)\n",
    "\n",
    "for i in range(1,80): #Iteración sobre todos los sujetos\n",
    "    \n",
    "    #Se asume que los sujetos están en carpetas desde \"001\" hasta \"079\"\n",
    "    if i < 10:\n",
    "        name = '00' + str(i)\n",
    "    else:\n",
    "        name = '0' + str(i)\n",
    "    \n",
    "    #Lectura de clusters\n",
    "    data = np.array(bt3.read_bundle_severalbundles(path + name + '/Talairach/finalClusters_tal.bundles')[0])\n",
    "    \n",
    "    #Obtención de fibras y centroides, y guardado en arreglos\n",
    "    centroids, data = get_centroids(data, name, 15, 1.5, 100)   #En definición de get_centroids se explican los parámetors\n",
    "    all_centroids.append(centroids)\n",
    "    all_data.append(data)\n",
    "    \n",
    "    #Cálculo de identificadores\n",
    "    ids += [i]*len(data)\n",
    "    \n",
    "print('Saving all_data...')\n",
    "\n",
    "#Guardado de fibras, centroides, e ids en archivos .npy (optimizado para arreglos numpy)\n",
    "np.save(path+'filtered/all_centroids', np.concatenate(all_centroids))\n",
    "np.save(path+'filtered/ids', np.array(ids))\n",
    "# np.save(path+'filtered/all_data', np.concatenate(all_data))"
   ]
  },
  {
   "cell_type": "markdown",
   "metadata": {},
   "source": [
    "__Carga de datos de clustering intra-sujeto__"
   ]
  },
  {
   "cell_type": "code",
   "execution_count": 4,
   "metadata": {},
   "outputs": [],
   "source": [
    "#Path para almacenar los clusters filtrados\n",
    "data_path = 'data/79subjects/clustered_2/filtered/'"
   ]
  },
  {
   "cell_type": "code",
   "execution_count": 8,
   "metadata": {},
   "outputs": [],
   "source": [
    "#Carga de identificadores => elemento i indica a qué sujeto pertenece el centroide i.\n",
    "ids = np.load(data_path + 'ids.npy')\n",
    "\n",
    "#Carga de centroides intra-sujeto y conversión a ArraySequence (AS, formato utilizado por DIPY/QuickBundles)\n",
    "intra_centroids = np.load(data_path + 'all_centroids.npy')\n",
    "intra_centroids_AS = nib.streamlines.ArraySequence(intra_centroids)\n",
    "\n",
    "#Arreglo de fibras...\n",
    "fibers = np.empty((0))\n",
    "\n",
    "#...se cargan en batches para disminuir uso de memoria\n",
    "for i in range(1,9):\n",
    "    new_data = np.load(data_path + 'all_data_' + str(i) + '.npy', allow_pickle = True)\n",
    "    for j in range(len(new_data)):\n",
    "        fibers = np.concatenate((fibers,new_data[j]))"
   ]
  },
  {
   "cell_type": "markdown",
   "metadata": {},
   "source": [
    "__Clustering de centroides con QuickBundles__"
   ]
  },
  {
   "cell_type": "code",
   "execution_count": 9,
   "metadata": {},
   "outputs": [],
   "source": [
    "#Tiempos:\n",
    "\n",
    "#theta = 30 => time = 39.125555753707886 [s]\n",
    "#theta = 25 => time = 82.16234850883484 [s]\n",
    "#theta = 20 => time = 196.0322229862213 [s]\n",
    "#theta = 15 => time = 562.9691634178162 [s]\n",
    "#theta = 10 => time = 2748.397008419037 [s]"
   ]
  },
  {
   "cell_type": "code",
   "execution_count": 64,
   "metadata": {},
   "outputs": [
    {
     "name": "stdout",
     "output_type": "stream",
     "text": [
      "Tiempo: 186.69596147537231 [s]\n"
     ]
    }
   ],
   "source": [
    "#Como las fibras ya están muestreadas con 21 puntos, se evita el resampleo interno de QB...\n",
    "feature = IdentityFeature()\n",
    "metric = AveragePointwiseEuclideanMetric(feature=feature)\n",
    "\n",
    "#Umbral de distancia de QB en mm (notar que debe ser un float)\n",
    "theta = 20.\n",
    "\n",
    "#Creación de método QB\n",
    "qb = QuickBundles(threshold = theta, metric = metric)\n",
    "\n",
    "#Clustering\n",
    "t0 = time.time()\n",
    "inter_clusters = qb.cluster(intra_centroids_AS)\n",
    "print('Tiempo: ' + str(time.time() - t0) + ' [s]')\n",
    "\n",
    "#Guardado de clustering en pkl\n",
    "save_pickle(data_path + 'centroids_QB_' + str(theta)[0:-2] + 'mm.pkl', inter_clusters)"
   ]
  },
  {
   "cell_type": "markdown",
   "metadata": {},
   "source": [
    "QB crea un arreglo (inter_clusters) en donde cada elemento es un cluster con atributos, como los índices de las fibras originales pertenecientes a el, y su correspondiente centroide, entre otros."
   ]
  },
  {
   "cell_type": "markdown",
   "metadata": {},
   "source": [
    "__Carga de clustering__"
   ]
  },
  {
   "cell_type": "code",
   "execution_count": 5,
   "metadata": {},
   "outputs": [],
   "source": [
    "theta = 20.\n",
    "inter_clusters = load_pickle(data_path + 'centroids_QB_' + str(int(theta)) + 'mm.pkl')"
   ]
  },
  {
   "cell_type": "markdown",
   "metadata": {},
   "source": [
    "__Resumen del clustering inter-sujeto__"
   ]
  },
  {
   "cell_type": "code",
   "execution_count": 6,
   "metadata": {
    "scrolled": true
   },
   "outputs": [
    {
     "name": "stdout",
     "output_type": "stream",
     "text": [
      "No. clusters: 1429\n",
      "Streamlines indices of the first cluster:\n",
      " [0, 1, 2, 3, 4, 5, 6, 7, 8, 9, 10, 11, 12, 13, 14, 15, 16, 17, 18, 19, 640, 1099, 1101, 1105, 1106, 1107, 1109, 1110, 1111, 1112, 1113, 1451, 1552, 1563, 1564, 1565, 1778, 1779, 1780, 1781, 1782, 1783, 1803, 9329, 9330, 9331, 9332, 9333, 9334, 9335, 9336, 9337, 9338, 9339, 9340, 9342, 9343, 9344, 9345, 9346, 9347, 9349, 9350, 9351, 9352, 9353, 9357, 9360, 9726, 9732, 9748, 9806, 9815, 9823, 9835, 9842, 9857, 10391, 10412, 11008, 13277, 18914, 18915, 18916, 18917, 18918, 18919, 18921, 18927, 18929, 18933, 18934, 18935, 18936, 18937, 18938, 18940, 18941, 18942, 18944, 18947, 18949, 18952, 18953, 18956, 18957, 18958, 19070, 19071, 19072, 19073, 19074, 19075, 19080, 19081, 19083, 19084, 19085, 19086, 19087, 19088, 19089, 19090, 19091, 19095, 19498, 19509, 19512, 19785, 19787, 19794, 19801, 19803, 19818, 20127, 29031, 29032, 29033, 29034, 29035, 29036, 29037, 29038, 29039, 29040, 29041, 29042, 29043, 29044, 29045, 29046, 29047, 29048, 29049, 29050, 29051, 29052, 29053, 29054, 29055, 29056, 29063, 29065, 29066, 29067, 29069, 29074, 29270, 30061, 30367, 31041, 31044, 39291, 39294, 39295, 39296, 39297, 39299, 39300, 39301, 39302, 39303, 39304, 39306, 39309, 39310, 39312, 39313, 39317, 39319, 39328, 39329, 39330, 39335, 39343, 39347, 39348, 39352, 39732, 39733, 39734, 40406, 40508, 49910, 49911, 49912, 49915, 49916, 49917, 49918, 49919, 49920, 49923, 49924, 49931, 49932, 49933, 49935, 49936, 49937, 49944, 49949, 49953, 49954, 49955, 49958, 49959, 50116, 50117, 50124, 50135, 50136, 50140, 50154, 51071, 51119, 59055, 59056, 59064, 59065, 59071, 59080, 59081, 59082, 59083, 59084, 59085, 59095, 59100, 59108, 59112, 59223, 59224, 59226, 59230, 59243, 59244, 59245, 59246, 59260, 59283, 59303, 59693, 59701, 59725, 59753, 61252, 61277, 61296, 61314, 71052, 71053, 71054, 71056, 71057, 71065, 71655, 71656, 71658, 71668, 71669, 71675, 71685, 80203, 80207, 80219, 80221, 80230, 80275, 80286, 80292, 80293, 80294, 88029, 88038, 88047, 88131, 88132, 88133, 88134, 88140, 88141, 88142, 88146, 88153, 88154, 88155, 88157, 89054, 89055, 89059, 89065, 89067, 89069, 89083, 91642, 99504, 99508, 99509, 99511, 99512, 99513, 99514, 99515, 99516, 99517, 99518, 99519, 99522, 99524, 99528, 99529, 99533, 101820, 101821, 101823, 101827, 101828, 103107, 108371, 108379, 108383, 108384, 108386, 108388, 108389, 108393, 108394, 109416, 117414, 117415, 117418, 117420, 117429, 117430, 117437, 117438, 117439, 118306, 118307, 118314, 118323, 118324, 118325, 118932, 127487, 127490, 127491, 127493, 127494, 127495, 127497, 127498, 127503, 127507, 127899, 127909, 129510, 131289, 136786, 136787, 136788, 136789, 136790, 136791, 136792, 136795, 136799, 136800, 136801, 136807, 138545, 146821, 146823, 146824, 146825, 146826, 146827, 146828, 146833, 146835, 146836, 146837, 146838, 146841, 146842, 146843, 146844, 146845, 146846, 146847, 146848, 146850, 146851, 146853, 146855, 146857, 146863, 146865, 146866, 146867, 146868, 146869, 148977, 148992, 149013, 149018, 149563, 149564, 149565, 149566, 149567, 149578, 149579, 149581, 149584, 149595, 150951, 150973, 150975, 150998, 151002, 154673, 154812, 154813, 154853, 154857, 154858, 154865, 154879, 154880, 154881, 154886, 155464, 163909, 163910, 163912, 163920, 163921, 163922, 164332, 164340, 166418, 171916, 171917, 171918, 171921, 171922, 171924, 171925, 171926, 171928, 171929, 171932, 171942, 171947, 171954, 171956, 174022, 174023, 174025, 174028, 174030, 174031, 174032, 174033, 174036, 174038, 174040, 174042, 174043, 174046, 174052, 174167, 174555, 174591, 174592, 182716, 182717, 182722, 182725, 182726, 182730, 182731, 183119, 183129, 183133, 183772, 183773, 183774, 183777, 183778, 183779, 183782, 192945, 192947, 192948, 192949, 192950, 192951, 192954, 192955, 192958, 192959, 192963, 192964, 192966, 192967, 192968, 192972, 192973, 192974, 192975, 192976, 192977, 192979, 193061, 193063, 193064, 193065, 193066, 193068, 193077, 193079, 193080, 193848, 193849, 193850, 193856, 203084, 203085, 203086, 203088, 203089, 203091, 203092, 203093, 203094, 203095, 203096, 204276, 204340, 211397, 211409, 211410, 211415, 211417, 211419, 211429, 211466, 211467, 211468, 211469, 211472, 211473, 211474, 211476, 211478, 211479, 211483, 211484, 211486, 211487, 214515, 221967, 221968, 221969, 221970, 221971, 221972, 221973, 221974, 221975, 221978, 221979, 221980, 221982, 221983, 221986, 221987, 221989, 221990, 221992, 221998, 222000, 222168, 223522, 223523, 231509, 231704, 231710, 231711, 231712, 231714, 231717, 231721, 231722, 231728, 231730, 231731, 231733, 231734, 231735, 231738, 231739, 231741, 231742, 231745, 231874, 231876, 231877, 231930, 232099, 241365, 241367, 241370, 241372, 241374, 241375, 241376, 241377, 241378, 241381, 241383, 241384, 241387, 241388, 241389, 241393, 241394, 241395, 241802, 241806, 242948, 243469, 251320, 251324, 251326, 251327, 251328, 251329, 251353, 251355, 251992, 251993, 252001, 252013, 253408, 253418, 253429, 256869, 256882, 260354, 260366, 260805, 260806, 260807, 260813, 260874, 270168, 270171, 270175, 270188, 270524, 270525, 270529, 270530, 270531, 270532, 270533, 270536, 270541, 270554, 271221, 271227, 271228, 271231, 271236, 281886, 281887, 281888, 281889, 281890, 281891, 281896, 281909, 281913, 281920, 281923, 281935, 281936, 282840, 282842, 283566, 283570, 287642, 287662, 288524, 292027, 292032, 292033, 292034, 292035, 292049, 292050, 292051, 292052, 292053, 292055, 292081, 292392, 292393, 292397, 292398, 292399, 293060, 293078, 298346, 303862, 303863, 303864, 303865, 303867, 303868, 303870, 303871, 303872, 303875, 303879, 303880, 303881, 303882, 303883, 303884, 303885, 303886, 303887, 303892, 303893, 303894, 303895, 303896, 303904, 303908, 303909, 303911, 304240, 304284, 304285, 305330, 306102, 314951, 314953, 314956, 314957, 314958, 314959, 314960, 314961, 314962, 314969, 314970, 314972, 314975, 314977, 314978, 314981, 314982, 314988, 315806, 315807, 315829, 325534, 325540, 325541, 325544, 325558, 325560, 325620, 325624, 325634, 325635, 325636, 325651, 326989, 326994, 326997, 326999, 327006, 327007, 327008, 327009, 327012, 327013, 327015, 327018, 327019, 327023, 327024, 327028, 334805, 334808, 334809, 334810, 334812, 334814, 334822, 334824, 334825, 334827, 334829, 334831, 334835, 334836, 336176, 336177, 336285, 336296, 345264, 345265, 345266, 345267, 345270, 345273, 345275, 345276, 345278, 345283, 345284, 345289, 345291, 345293, 345298, 345302, 345305, 345306, 345320, 345321, 345326, 345327, 345328, 345333, 346145, 346146, 346147, 346154, 346156, 349593, 358258, 358264, 358265, 358266, 358791, 358818, 358826, 358832, 358836, 365118, 365119, 365120, 365121, 365122, 365124, 365129, 365130, 365131, 365132, 365133, 365136, 365138, 365140, 365810, 366078, 374217, 374218, 374219, 374223, 374224, 374228, 374813, 374814, 374815, 374845, 374936, 374937, 375007, 383408, 383409, 383410, 383422, 383425, 384569, 384573, 384574, 384579, 384580, 384581, 384586, 384588, 384593, 384595, 384597, 385366, 386205, 386230, 396809, 396810, 396811, 396812, 396814, 396816, 396819, 396821, 396822, 396825, 396826, 396838, 404374, 404376, 404381, 404384, 404393, 404394, 404395, 404518, 404521, 404522, 404523, 404524, 404525, 404532, 406372, 406377, 414647, 414648, 414649, 414651, 414653, 414656, 414657, 414658, 415387, 416490, 416492, 416495, 416500, 416502, 416504, 422918, 422919, 422921, 422924, 422927, 422928, 422934, 422935, 422936, 422991, 422992, 422996, 423002, 423016, 423018, 423020, 424031, 424039, 424041, 432211, 432214, 432215, 432218, 432220, 432222, 432223, 432224, 432225, 432228, 432229, 432230, 432233, 432234, 432237, 432238, 432240, 432243, 432244, 432245, 432246, 432248, 432249, 432253, 443515, 443517, 443518, 443520, 443522, 443525, 443526, 443528, 443529, 443530, 443531, 443532, 443533, 443550, 443554, 450143, 450145, 450149, 450178, 450912, 450919, 450922, 450928, 450930, 450931, 450932, 450933, 451659, 461020, 461021, 461022, 461023, 461024, 461025, 461026, 461028, 461029, 461035, 461036, 461037, 461038, 461045, 461051, 461054, 461055, 461056, 461057, 461058, 461059, 461062, 461063, 461064, 461069, 461070, 461071, 461251, 461252, 461268, 461269, 461274, 461278, 461279, 461280, 461284, 471514, 472164, 472166, 472167, 472168, 472169, 472171, 472179, 472180, 472181, 472182, 472186, 472213, 472227, 472228, 473443, 482586, 482610, 482946, 482947, 482948, 482952, 485369, 485375, 485376, 485380, 485383, 491886, 491887, 491890, 491891, 491893, 491896, 491909, 491912, 491914, 491921, 491925, 491927, 491928, 491930, 501258, 501259, 501260, 501261, 501262, 501263, 501266, 501268, 501269, 501961, 501998, 502005, 502007, 502013, 502015, 512271, 512727, 512728, 512730, 512731, 512734, 512735, 512737, 512746, 512747, 512749, 512757, 520811, 520819, 520825, 520848, 520869, 520900, 522543, 529228, 529230, 529235, 529315, 529344, 531850, 537850, 537880, 538219, 538220, 538223, 538224, 538225, 538232, 538238, 538245, 547110, 547111, 547122, 547226, 547232, 547233, 547234, 547235, 547236, 547237, 547238, 547246, 547267, 547269, 551970, 557311, 557312, 557318, 557319, 557320, 557342, 567010, 567027, 568377, 568379, 568380, 568388, 568389, 568390, 568396, 568397, 568407, 568408, 568831, 568851, 569766, 569767, 569784, 575318, 575319, 575326, 575327, 575328, 575335, 575336, 575342, 575343, 575344, 575736, 575737, 575738, 575739, 575769, 575776, 575777, 575778, 576579, 586141, 586146, 586151, 586154, 586155, 586157, 586158, 586166, 586168, 586169, 586185, 587540, 587556, 587568, 587614, 587618, 587619, 587627, 587635, 587638, 596263, 596265, 596266, 596268, 596279, 596281, 596289, 596290, 596291, 596293, 596294, 596295, 606429, 606437, 606463, 606950, 606952, 606953, 606955, 606956, 606957, 606958, 606960, 606968, 606969, 606972, 606973, 606979, 606989, 615205, 615209, 615218, 615223, 615224, 615229, 615782, 615790, 615791, 615810, 615837, 625050, 625051, 625126, 625166, 625268, 625269, 625270, 625271, 625272, 625273, 625276, 625281, 625286, 625288, 625833, 626534, 626541, 634957, 634965, 634968, 634976, 635418, 635420, 635421, 635426, 635428, 635429, 635431, 635434, 635567, 635568, 635572, 635575, 635576, 645385, 645386, 645387, 645394, 647160, 647162, 648482, 648490, 655427, 655428, 655429, 655431, 655433, 655436, 655437, 655438, 655445, 655457, 655458, 655923, 656022, 657442, 664754, 665427, 665428, 665429, 665430, 665431, 665432, 665433, 665436, 665437, 665440, 665441, 665442, 665443, 665446, 665450, 665452, 665456, 665457, 665458, 665501, 668594, 674655, 674659, 674660, 674661, 674662, 674663, 674664, 674667, 674668, 674669, 674670, 674671, 674677, 674678, 674684, 676153, 683222, 683223, 683226, 683231, 683238, 683248, 683725, 683731, 683756, 683757, 693706, 693707, 693708, 693711, 693713, 693714, 693715, 693716, 693719, 693720, 693721, 693722, 693728, 693736, 693752, 693757, 693758, 694256, 694257, 694265, 694266, 703197, 703198, 703199, 703200, 703201, 703202, 703203, 703204, 703206, 703207, 703209, 703211, 703212, 703213, 703215, 703219, 703221, 703222, 703226, 703227, 703230, 703234, 713543, 713544, 713548, 713549, 713561, 713562, 713593, 713596, 713601, 713603, 713606, 713607, 713608, 713617, 713618, 713619, 723785, 723786, 723787, 724415, 724418, 724419, 724420, 724421, 724428, 724435, 724484, 724486, 724487, 724488, 724489, 724490, 724491, 724492, 724493, 724494, 724495, 724496, 724497, 724498, 724499, 724500, 732845, 732846, 732847, 732848, 732855, 732856, 732857, 732858, 732866, 734434, 734470, 735958, 743958, 743959, 743960, 743961, 743962, 743966, 743967, 743968, 743977, 744639, 744642, 751712, 751721, 751722, 751723, 751759, 751760, 751761, 751769, 751774, 751782, 751784, 751793, 751795, 760360, 760361, 760362, 760368, 760381, 760382, 760383, 760384, 762147, 762148, 762149, 762153, 762156, 762169, 762175, 762176, 763323]\n",
      "Centroid of the last cluster:\n",
      " [[ 13.417206  85.92332  -56.29738 ]\n",
      " [ 14.060822  78.66917  -52.61235 ]\n",
      " [ 13.968079  72.120125 -49.100372]\n",
      " [ 15.584839  67.076096 -43.585037]\n",
      " [ 18.160187  62.438766 -38.032722]\n",
      " [ 21.437866  58.36814  -32.451523]\n",
      " [ 24.013367  53.500214 -27.295092]\n",
      " [ 28.159637  48.281006 -23.888325]\n",
      " [ 30.174454  42.418343 -19.76895 ]\n",
      " [ 28.51622   36.193398 -15.944806]\n",
      " [ 24.921494  30.17733  -14.349783]\n",
      " [ 20.616821  24.573555 -16.750057]\n",
      " [ 19.76117   20.20092  -21.591597]\n",
      " [ 20.788544  18.413635 -28.626316]\n",
      " [ 20.942657  17.22985  -35.83082 ]\n",
      " [ 21.908295  18.939934 -43.402946]\n",
      " [ 20.402634  20.787712 -50.856277]\n",
      " [ 17.167603  22.058998 -57.852543]\n",
      " [ 13.844849  22.6922   -64.85487 ]\n",
      " [ 11.804642  23.788498 -72.344284]\n",
      " [ 10.584503  25.39508  -81.70172 ]]\n"
     ]
    }
   ],
   "source": [
    "print(\"No. clusters:\", len(inter_clusters))\n",
    "print(\"Streamlines indices of the first cluster:\\n\", inter_clusters[0].indices)\n",
    "print(\"Centroid of the last cluster:\\n\", inter_clusters[-1].centroid)"
   ]
  },
  {
   "cell_type": "markdown",
   "metadata": {},
   "source": [
    "__Visualización de cluster inter-sujeto con aportes de cada sujeto__\n",
    "\n",
    "Este bloque grafica los $N_s$ centroides que componen un cluster ínter-sujeto en una imagen, y también obtiene $N_s$ imágenes de los clusters correspondientes a dichos centroides. Estas imágenes son guardadas en un directorio.\n",
    "\n",
    "Cabe destacar que sólo se obtienen imagénes de clusters con $N_s > subs\\_thr$, donde $subs\\_thr$ es un umbral definido."
   ]
  },
  {
   "cell_type": "code",
   "execution_count": 25,
   "metadata": {},
   "outputs": [
    {
     "ename": "KeyboardInterrupt",
     "evalue": "",
     "output_type": "error",
     "traceback": [
      "\u001b[0;31m---------------------------------------------------------------------------\u001b[0m",
      "\u001b[0;31mKeyboardInterrupt\u001b[0m                         Traceback (most recent call last)",
      "\u001b[0;32m<ipython-input-25-fa5ce32bf39c>\u001b[0m in \u001b[0;36m<module>\u001b[0;34m\u001b[0m\n\u001b[1;32m     73\u001b[0m             \u001b[0mwindow\u001b[0m\u001b[0;34m.\u001b[0m\u001b[0mScene\u001b[0m\u001b[0;34m(\u001b[0m\u001b[0;34m)\u001b[0m\u001b[0;34m.\u001b[0m\u001b[0mclear\u001b[0m\u001b[0;34m\u001b[0m\u001b[0;34m\u001b[0m\u001b[0m\n\u001b[1;32m     74\u001b[0m             \u001b[0mren\u001b[0m\u001b[0;34m.\u001b[0m\u001b[0mSetBackground\u001b[0m\u001b[0;34m(\u001b[0m\u001b[0;36m1\u001b[0m\u001b[0;34m,\u001b[0m \u001b[0;36m1\u001b[0m\u001b[0;34m,\u001b[0m \u001b[0;36m1\u001b[0m\u001b[0;34m)\u001b[0m\u001b[0;34m\u001b[0m\u001b[0;34m\u001b[0m\u001b[0m\n\u001b[0;32m---> 75\u001b[0;31m             \u001b[0mren\u001b[0m\u001b[0;34m.\u001b[0m\u001b[0madd\u001b[0m\u001b[0;34m(\u001b[0m\u001b[0mactor\u001b[0m\u001b[0;34m.\u001b[0m\u001b[0mstreamtube\u001b[0m\u001b[0;34m(\u001b[0m\u001b[0mtemp\u001b[0m\u001b[0;34m,\u001b[0m \u001b[0mnp\u001b[0m\u001b[0;34m.\u001b[0m\u001b[0mtile\u001b[0m\u001b[0;34m(\u001b[0m\u001b[0mcolormap\u001b[0m\u001b[0;34m[\u001b[0m\u001b[0mindice\u001b[0m\u001b[0;34m]\u001b[0m\u001b[0;34m*\u001b[0m\u001b[0;36m10\u001b[0m\u001b[0;34m,\u001b[0m \u001b[0mlen\u001b[0m\u001b[0;34m(\u001b[0m\u001b[0mtemp\u001b[0m\u001b[0;34m)\u001b[0m\u001b[0;34m)\u001b[0m\u001b[0;34m.\u001b[0m\u001b[0mreshape\u001b[0m\u001b[0;34m(\u001b[0m\u001b[0mlen\u001b[0m\u001b[0;34m(\u001b[0m\u001b[0mtemp\u001b[0m\u001b[0;34m)\u001b[0m\u001b[0;34m,\u001b[0m\u001b[0;36m3\u001b[0m\u001b[0;34m)\u001b[0m\u001b[0;34m,\u001b[0m \u001b[0mlinewidth\u001b[0m \u001b[0;34m=\u001b[0m \u001b[0;36m0.1\u001b[0m\u001b[0;34m,\u001b[0m \u001b[0mopacity\u001b[0m \u001b[0;34m=\u001b[0m \u001b[0;36m0.05\u001b[0m\u001b[0;34m)\u001b[0m\u001b[0;34m)\u001b[0m\u001b[0;34m\u001b[0m\u001b[0;34m\u001b[0m\u001b[0m\n\u001b[0m\u001b[1;32m     76\u001b[0m             \u001b[0mren\u001b[0m\u001b[0;34m.\u001b[0m\u001b[0madd\u001b[0m\u001b[0;34m(\u001b[0m\u001b[0mactor\u001b[0m\u001b[0;34m.\u001b[0m\u001b[0mstreamtube\u001b[0m\u001b[0;34m(\u001b[0m\u001b[0mtemp_centroid\u001b[0m\u001b[0;34m,\u001b[0m \u001b[0mnp\u001b[0m\u001b[0;34m.\u001b[0m\u001b[0mtile\u001b[0m\u001b[0;34m(\u001b[0m\u001b[0mcolormap\u001b[0m\u001b[0;34m[\u001b[0m\u001b[0mindice\u001b[0m\u001b[0;34m]\u001b[0m\u001b[0;34m*\u001b[0m\u001b[0;36m10\u001b[0m\u001b[0;34m,\u001b[0m \u001b[0mlen\u001b[0m\u001b[0;34m(\u001b[0m\u001b[0mtemp_centroid\u001b[0m\u001b[0;34m)\u001b[0m\u001b[0;34m)\u001b[0m\u001b[0;34m.\u001b[0m\u001b[0mreshape\u001b[0m\u001b[0;34m(\u001b[0m\u001b[0mlen\u001b[0m\u001b[0;34m(\u001b[0m\u001b[0mtemp_centroid\u001b[0m\u001b[0;34m)\u001b[0m\u001b[0;34m,\u001b[0m\u001b[0;36m3\u001b[0m\u001b[0;34m)\u001b[0m\u001b[0;34m,\u001b[0m \u001b[0mlinewidth\u001b[0m \u001b[0;34m=\u001b[0m \u001b[0;36m0.2\u001b[0m\u001b[0;34m)\u001b[0m\u001b[0;34m)\u001b[0m\u001b[0;34m\u001b[0m\u001b[0;34m\u001b[0m\u001b[0m\n\u001b[1;32m     77\u001b[0m             \u001b[0mren\u001b[0m\u001b[0;34m.\u001b[0m\u001b[0mset_camera\u001b[0m\u001b[0;34m(\u001b[0m\u001b[0mposition\u001b[0m\u001b[0;34m=\u001b[0m\u001b[0mcamara\u001b[0m\u001b[0;34m[\u001b[0m\u001b[0;36m0\u001b[0m\u001b[0;34m]\u001b[0m\u001b[0;34m,\u001b[0m\u001b[0mfocal_point\u001b[0m\u001b[0;34m=\u001b[0m\u001b[0mcamara\u001b[0m\u001b[0;34m[\u001b[0m\u001b[0;36m1\u001b[0m\u001b[0;34m]\u001b[0m\u001b[0;34m,\u001b[0m\u001b[0mview_up\u001b[0m\u001b[0;34m=\u001b[0m\u001b[0mcamara\u001b[0m\u001b[0;34m[\u001b[0m\u001b[0;36m2\u001b[0m\u001b[0;34m]\u001b[0m\u001b[0;34m)\u001b[0m\u001b[0;34m\u001b[0m\u001b[0;34m\u001b[0m\u001b[0m\n",
      "\u001b[0;32m~/anaconda3/envs/py3/lib/python3.6/site-packages/fury/actor.py\u001b[0m in \u001b[0;36mstreamtube\u001b[0;34m(lines, colors, opacity, linewidth, tube_sides, lod, lod_points, lod_points_size, spline_subdiv, lookup_colormap)\u001b[0m\n\u001b[1;32m    600\u001b[0m \u001b[0;34m\u001b[0m\u001b[0m\n\u001b[1;32m    601\u001b[0m     \u001b[0;31m# Add thickness to the resulting lines\u001b[0m\u001b[0;34m\u001b[0m\u001b[0;34m\u001b[0m\u001b[0;34m\u001b[0m\u001b[0m\n\u001b[0;32m--> 602\u001b[0;31m     \u001b[0mtube_filter\u001b[0m \u001b[0;34m=\u001b[0m \u001b[0mset_input\u001b[0m\u001b[0;34m(\u001b[0m\u001b[0mvtk\u001b[0m\u001b[0;34m.\u001b[0m\u001b[0mvtkTubeFilter\u001b[0m\u001b[0;34m(\u001b[0m\u001b[0;34m)\u001b[0m\u001b[0;34m,\u001b[0m \u001b[0mnext_input\u001b[0m\u001b[0;34m)\u001b[0m\u001b[0;34m\u001b[0m\u001b[0;34m\u001b[0m\u001b[0m\n\u001b[0m\u001b[1;32m    603\u001b[0m     \u001b[0mtube_filter\u001b[0m\u001b[0;34m.\u001b[0m\u001b[0mSetNumberOfSides\u001b[0m\u001b[0;34m(\u001b[0m\u001b[0mtube_sides\u001b[0m\u001b[0;34m)\u001b[0m\u001b[0;34m\u001b[0m\u001b[0;34m\u001b[0m\u001b[0m\n\u001b[1;32m    604\u001b[0m     \u001b[0mtube_filter\u001b[0m\u001b[0;34m.\u001b[0m\u001b[0mSetRadius\u001b[0m\u001b[0;34m(\u001b[0m\u001b[0mlinewidth\u001b[0m\u001b[0;34m)\u001b[0m\u001b[0;34m\u001b[0m\u001b[0;34m\u001b[0m\u001b[0m\n",
      "\u001b[0;32m~/anaconda3/envs/py3/lib/python3.6/site-packages/fury/utils.py\u001b[0m in \u001b[0;36mset_input\u001b[0;34m(vtk_object, inp)\u001b[0m\n\u001b[1;32m     30\u001b[0m     \u001b[0;32melif\u001b[0m \u001b[0misinstance\u001b[0m\u001b[0;34m(\u001b[0m\u001b[0minp\u001b[0m\u001b[0;34m,\u001b[0m \u001b[0mvtk\u001b[0m\u001b[0;34m.\u001b[0m\u001b[0mvtkAlgorithmOutput\u001b[0m\u001b[0;34m)\u001b[0m\u001b[0;34m:\u001b[0m\u001b[0;34m\u001b[0m\u001b[0;34m\u001b[0m\u001b[0m\n\u001b[1;32m     31\u001b[0m         \u001b[0mvtk_object\u001b[0m\u001b[0;34m.\u001b[0m\u001b[0mSetInputConnection\u001b[0m\u001b[0;34m(\u001b[0m\u001b[0minp\u001b[0m\u001b[0;34m)\u001b[0m\u001b[0;34m\u001b[0m\u001b[0;34m\u001b[0m\u001b[0m\n\u001b[0;32m---> 32\u001b[0;31m     \u001b[0mvtk_object\u001b[0m\u001b[0;34m.\u001b[0m\u001b[0mUpdate\u001b[0m\u001b[0;34m(\u001b[0m\u001b[0;34m)\u001b[0m\u001b[0;34m\u001b[0m\u001b[0;34m\u001b[0m\u001b[0m\n\u001b[0m\u001b[1;32m     33\u001b[0m     \u001b[0;32mreturn\u001b[0m \u001b[0mvtk_object\u001b[0m\u001b[0;34m\u001b[0m\u001b[0;34m\u001b[0m\u001b[0m\n\u001b[1;32m     34\u001b[0m \u001b[0;34m\u001b[0m\u001b[0m\n",
      "\u001b[0;31mKeyboardInterrupt\u001b[0m: "
     ]
    }
   ],
   "source": [
    "for z in range(len(inter_clusters)):\n",
    "    #Número de cluster a visualizar\n",
    "    idx = z\n",
    "\n",
    "    #Umbral de sujetos (sólo considerar aquellos clusters formados por fibras de más de subs_thr sujetos)\n",
    "    subs_thr = 70\n",
    "\n",
    "    #Indices de centroides intra-sujeto correspondientes al cluster\n",
    "    cluster_idx = inter_clusters[idx].indices\n",
    "\n",
    "    #Centroides correspondientes al cluster\n",
    "    inter_cluster = intra_centroids_AS[cluster_idx]\n",
    "\n",
    "    #Identificadores de centroides correspondientes al cluster\n",
    "    clusters_ids = ids[cluster_idx]\n",
    "\n",
    "    #Paleta de colores (1 por sujeto)\n",
    "    colormap = actor.create_colormap(np.arange(len(set(clusters_ids))))\n",
    "\n",
    "    #Mapa de colores (1 por centroide)\n",
    "    colormap_full = np.ones((len(inter_cluster), 3))\n",
    "\n",
    "    #Se asigna el mismo color a centroides que vienen del mismo sujeto\n",
    "    for sub, color in zip(set(clusters_ids), colormap):\n",
    "        colormap_full[np.where(clusters_ids == sub)] = color*10\n",
    "\n",
    "    #True: Guardar imágenes en disco y también visualizar clusters aquí.\n",
    "    #False: Sólo guardar en disco.\n",
    "    interactive = False\n",
    "\n",
    "    #Creación de directorio donde se guardarán las imágenes\n",
    "    if not os.path.exists('images_QB_' + str(int(theta)) + '/' + str(idx)):\n",
    "        os.makedirs('images_QB_' + str(int(theta)) + '/' + str(idx))\n",
    "\n",
    "    \n",
    "    #Creación de escena y parámetros de figura\n",
    "    ren = window.Scene()\n",
    "    window.Scene().clear\n",
    "    \n",
    "    #Fondo blanco\n",
    "    ren.SetBackground(1, 1, 1)\n",
    "    \n",
    "    #Creación de objetos fibras (streamlines) para los centroides que componen el cluster ínter-sujeto\n",
    "    ren.add(actor.streamtube(inter_cluster, colormap_full, linewidth = 0.2))\n",
    "    \n",
    "    #Definición de cámara (lamentablemente no pude obtener un buen ángulo de visualización que funcione para todos los clusters)\n",
    "    ren.set_camera(position=(-4.04,270.91,101.11),focal_point=(0.64,52.22,-50.08),view_up=(0.01,0.57,-0.82))\n",
    "    \n",
    "    #Guardado de imagen en disco.\n",
    "    window.snapshot(ren, size=(1920,1080), fname='images_QB_' + str(int(theta)) + '/' + str(idx) + '/inter-cluster.png')\n",
    "    # window.record(ren, size=(800, 600), n_frames = 10, path_numbering = True, stereo = 'interlaced', verbose = True)\n",
    "    if interactive:\n",
    "        window.show(ren, reset_camera = False)\n",
    "\n",
    "    camara = ren.get_camera()\n",
    "\n",
    "    #Lista de sujetos que componen al cluster\n",
    "    subs = list(set(ids[inter_clusters[idx].indices]))\n",
    "\n",
    "    masks = []\n",
    "    \n",
    "    #Obtención de las fibras que pertenecen a cada centroide intra-sujeto.\n",
    "    if len(subs) >= subs_thr:\n",
    "        for indice, sub in enumerate(subs):\n",
    "            a = np.array(inter_clusters[idx].indices)\n",
    "            mask = np.array(ids[inter_clusters[idx].indices] == sub)\n",
    "            centroids = a[mask]\n",
    "\n",
    "            temp = np.empty([0,21,3])\n",
    "            temp_centroid = np.empty([0,21,3])\n",
    "\n",
    "            for centroid in centroids:\n",
    "                temp = np.append(temp, fibers[centroid], axis = 0)\n",
    "                temp_centroid = np.append(temp_centroid, intra_centroids_AS[centroid].reshape([1,21,3]), axis = 0)\n",
    "\n",
    "            ren = window.Scene()\n",
    "            window.Scene().clear\n",
    "            ren.SetBackground(1, 1, 1)\n",
    "            ren.add(actor.streamtube(temp, np.tile(colormap[indice]*10, len(temp)).reshape(len(temp),3), linewidth = 0.1, opacity = 0.05))\n",
    "            ren.add(actor.streamtube(temp_centroid, np.tile(colormap[indice]*10, len(temp_centroid)).reshape(len(temp_centroid),3), linewidth = 0.2))\n",
    "            ren.set_camera(position=camara[0],focal_point=camara[1],view_up=camara[2])\n",
    "            window.snapshot(ren, size=(1920,1080), fname='images_QB_' + str(int(theta)) + '/' + str(idx) + '/' + str(sub) + '.png')\n",
    "\n",
    "    else:\n",
    "        print(\"Cantidad de sujetos insuficiente!\")"
   ]
  },
  {
   "cell_type": "markdown",
   "metadata": {},
   "source": [
    "__Representatividad del clustering ínter-sujeto__"
   ]
  },
  {
   "cell_type": "code",
   "execution_count": 21,
   "metadata": {},
   "outputs": [
    {
     "data": {
      "image/png": "[encoded data removed]",
      "text/plain": [
       "<Figure size 560x280 with 1 Axes>"
      ]
     },
     "metadata": {
      "needs_background": "light"
     },
     "output_type": "display_data"
    }
   ],
   "source": [
    "#Arreglo para almacenar la cantidad de sujetos que componen cada cluster.\n",
    "represent = []\n",
    "\n",
    "for cluster in inter_clusters:\n",
    "    \n",
    "    subs = len(set(ids[cluster.indices]))     #Cantidad de ids únicos que aparecen en el cluster ínter-sujeto.\n",
    "    \n",
    "    represent.append(subs)\n",
    "\n",
    "represent = np.array(represent)\n",
    "\n",
    "#Creación de histograma\n",
    "hist = [0]*79\n",
    "\n",
    "for i in range(0,79):\n",
    "    hist[i] = np.sum(represent == i+1)\n",
    "\n",
    "#Gráfico del histograma\n",
    "import matplotlib.pyplot as plt\n",
    "\n",
    "fig = plt.figure(figsize = (8,4), dpi = 70)\n",
    "ax = fig.add_axes([0,0,1,1])\n",
    "ax.bar(range(1,80), hist[:])\n",
    "\n",
    "plt.xlabel('Número de sujetos', fontsize = 24)\n",
    "plt.xticks([1,10,20,30,40,50,60,70,79], fontsize = 24)\n",
    "plt.yticks(fontsize = 24)\n",
    "plt.ylabel('Número de clústers', fontsize = 24)\n",
    "plt.title('Representatividad de clustering ínter-sujeto', fontsize = 24)\n",
    "\n",
    "#Guardado de figura\n",
    "fig.savefig('data/79subjects/inter-clustered_QB_' + str(int(theta)) + '2/represent.pdf', dpi = 300, bbox_inches = 'tight')"
   ]
  },
  {
   "cell_type": "markdown",
   "metadata": {},
   "source": [
    "__Filtrado de clusters por cantidad de sujetos que lo componen__"
   ]
  },
  {
   "cell_type": "code",
   "execution_count": 74,
   "metadata": {},
   "outputs": [
    {
     "name": "stdout",
     "output_type": "stream",
     "text": [
      "3\n",
      "14\n",
      "25\n",
      "31\n",
      "32\n",
      "37\n",
      "48\n",
      "49\n",
      "52\n",
      "53\n",
      "54\n",
      "66\n",
      "75\n",
      "78\n",
      "81\n",
      "82\n",
      "85\n",
      "94\n",
      "97\n"
     ]
    },
    {
     "ename": "KeyboardInterrupt",
     "evalue": "",
     "output_type": "error",
     "traceback": [
      "\u001b[0;31m---------------------------------------------------------------------------\u001b[0m",
      "\u001b[0;31mKeyboardInterrupt\u001b[0m                         Traceback (most recent call last)",
      "\u001b[0;32m<ipython-input-74-29434eeb1bef>\u001b[0m in \u001b[0;36m<module>\u001b[0;34m\u001b[0m\n\u001b[1;32m     42\u001b[0m         \u001b[0;31m#Se hace lo mismo para las fibras que componen el cluster intra-sujeto asociadas al centroide intra-sujeto.\u001b[0m\u001b[0;34m\u001b[0m\u001b[0;34m\u001b[0m\u001b[0;34m\u001b[0m\u001b[0m\n\u001b[1;32m     43\u001b[0m         \u001b[0;32mfor\u001b[0m \u001b[0mfiber\u001b[0m \u001b[0;32min\u001b[0m \u001b[0mfibers\u001b[0m\u001b[0;34m[\u001b[0m\u001b[0midx\u001b[0m\u001b[0;34m]\u001b[0m\u001b[0;34m:\u001b[0m\u001b[0;34m\u001b[0m\u001b[0;34m\u001b[0m\u001b[0m\n\u001b[0;32m---> 44\u001b[0;31m             \u001b[0msubs_temp\u001b[0m\u001b[0;34m[\u001b[0m\u001b[0mids\u001b[0m\u001b[0;34m[\u001b[0m\u001b[0midx\u001b[0m\u001b[0;34m]\u001b[0m\u001b[0;34m]\u001b[0m\u001b[0;34m.\u001b[0m\u001b[0mappend\u001b[0m\u001b[0;34m(\u001b[0m\u001b[0mfiber\u001b[0m\u001b[0;34m)\u001b[0m\u001b[0;34m\u001b[0m\u001b[0;34m\u001b[0m\u001b[0m\n\u001b[0m\u001b[1;32m     45\u001b[0m \u001b[0;34m\u001b[0m\u001b[0m\n\u001b[1;32m     46\u001b[0m     \u001b[0;31m#Finalmente, se guardan los diccionarios temporales en diccionarios definitivos.\u001b[0m\u001b[0;34m\u001b[0m\u001b[0;34m\u001b[0m\u001b[0;34m\u001b[0m\u001b[0m\n",
      "\u001b[0;31mKeyboardInterrupt\u001b[0m: "
     ]
    }
   ],
   "source": [
    "keys = range(1,80)  #De 1 hasta 79 (sujetos).\n",
    "\n",
    "#Diccionarios que almacenan los clusters, nombre de clusters, y centroides para cada sujeto.\n",
    "subs_clusters = {key: [] for key in keys}\n",
    "subs_centroids = {key: [] for key in keys}\n",
    "subs_clusters_names = {key: [] for key in keys}\n",
    "\n",
    "#Umbral mínimo de representatividad (cantidad mínima de sujetos distintos que componen el cluster).\n",
    "subs_thr = 70\n",
    "\n",
    "#Índices de clusters ínter-sujeto que superan el umbral de representatividad.\n",
    "qb_valid_idx = []\n",
    "\n",
    "#Para cada cluster ínter-sujeto...\n",
    "for j, cluster in enumerate(inter_clusters):\n",
    "    \n",
    "    #Sujetos únicos que lo componen\n",
    "    subs = set(ids[cluster.indices])\n",
    "    \n",
    "    #Si la cantidad de sujetos no supera el umbral, descartar el cluster. De lo contrario seguir.\n",
    "    if len(subs) < subs_thr:\n",
    "        print(j)\n",
    "        continue\n",
    "    \n",
    "    #Se guarda el índice del cluster válido.\n",
    "    qb_valid_idx.append(j)\n",
    "    \n",
    "    #Para cada uno de los sujetos que componen el cluster...\n",
    "    for sub in subs:\n",
    "        #Se guarda el nombre del cluster, basado en el índice relativo a los clusters obtenidos con QB.\n",
    "        subs_clusters_names[sub].append('cluster_' + str(j))\n",
    "    \n",
    "    #Se crean diccionarios temporales para cada sujeto que compone el cluster, una para las fibras y otra para los centroides.\n",
    "    subs_temp = {key: [] for key in subs}\n",
    "    subs_centroid_temp = {key: [] for key in subs}\n",
    "    \n",
    "    #Para cada índice (centroide intra-sujeto) que contiene el cluster...\n",
    "    for idx in cluster.indices:\n",
    "        #Se guarda el centroide en la lista de centroides, en el elemento correspondiente al sujeto que originó el centroide.\n",
    "        subs_centroid_temp[ids[idx]].append(intra_centroids_AS[idx])\n",
    "        \n",
    "        #Se hace lo mismo para las fibras que componen el cluster intra-sujeto asociadas al centroide intra-sujeto.\n",
    "        for fiber in fibers[idx]:\n",
    "            subs_temp[ids[idx]].append(fiber)\n",
    "\n",
    "    #Finalmente, se guardan los diccionarios temporales en diccionarios definitivos.\n",
    "    for sub in subs_temp.keys():\n",
    "        if subs_centroid_temp[sub] != []:\n",
    "            subs_centroids[sub].append(subs_centroid_temp[sub])\n",
    "        if subs_temp[sub] != []:\n",
    "            subs_clusters[sub].append(subs_temp[sub])"
   ]
  },
  {
   "cell_type": "markdown",
   "metadata": {},
   "source": [
    "Diccionarios:\n",
    " \n",
    "_subs\\_centroids_ : La llave (de 1 a 79) corresponde a cada sujeto. El valor de cada una es una lista, donde cada elemento es también una lista, que corresponde al conjunto de centroides intra-sujeto (obtenidos con FFClust) que fueron agrupados en un mismo cluster ínter-sujeto por QuickBundles.\n",
    "\n",
    "_subs\\_clusters_ : Lo mismo que el anterior, pero en lugar de centroides, guarda las __fibras__ asociadas a cada uno de los centroides que fueron agrupados en un mismo cluster ínter-sujeto por QB.\n",
    "\n",
    "_subs\\_clusters_names_ : Nuevamente cada llave corresponde a un sujeto. Sin embargo, el valor asociado es una lista, en donde el $i$-ésimo elemento indica a que cluster ínter-sujeto pertenece el $i$-ésimo conjunto de centroides/fibras que fueron agrupadas por QB (las que se encuentran en los dos primeros diccionarios)."
   ]
  },
  {
   "cell_type": "markdown",
   "metadata": {},
   "source": [
    "__Número de fibras/centroides intra-sujetos restantes.__"
   ]
  },
  {
   "cell_type": "code",
   "execution_count": 54,
   "metadata": {},
   "outputs": [],
   "source": [
    "cuales = []\n",
    "n_intra_centroids = 0\n",
    "n_intra_fibers = 0\n",
    "\n",
    "for idx, cluster in enumerate(inter_clusters):\n",
    "    n_subs = len(set(ids[cluster.indices]))\n",
    "    \n",
    "    if n_subs >= 70:\n",
    "        cuales.append(idx)\n",
    "        n_intra_centroids += len(cluster.indices)\n",
    "        for j in range(len(fibers[cluster.indices])):\n",
    "            n_intra_fibers += len(fibers[cluster.indices][j])"
   ]
  },
  {
   "cell_type": "code",
   "execution_count": 55,
   "metadata": {},
   "outputs": [
    {
     "name": "stdout",
     "output_type": "stream",
     "text": [
      "Quedan 611534 centroides intra-sujeto,\n",
      "Asociados a 33093801 fibras intra-sujeto.\n"
     ]
    }
   ],
   "source": [
    "print('Quedan ' + str(n_intra_centroids) + ' centroides intra-sujeto,')\n",
    "print('Asociados a ' + str(n_intra_fibers) + ' fibras intra-sujeto.')"
   ]
  },
  {
   "cell_type": "markdown",
   "metadata": {},
   "source": [
    "__Guardado de nombres de clusters inter-sujeto__"
   ]
  },
  {
   "cell_type": "code",
   "execution_count": 75,
   "metadata": {},
   "outputs": [],
   "source": [
    "#Lista con nombres de clusters inter-sujeto (cluster_ + índice del cluster, p.ej. cluster_15).\n",
    "inter_clusters_names = []\n",
    "\n",
    "for j, cluster in enumerate(inter_clusters):\n",
    "    #Descartamos los que estén compuestos por un centroide \n",
    "    if len(cluster) == 1:\n",
    "        continue\n",
    "    inter_clusters_names.append('cluster_' + str(j))"
   ]
  },
  {
   "cell_type": "markdown",
   "metadata": {},
   "source": [
    "__Creación de paleta de colores para visualización en Anatomist.__"
   ]
  },
  {
   "cell_type": "code",
   "execution_count": 76,
   "metadata": {},
   "outputs": [],
   "source": [
    "n = len(inter_clusters_names)\n",
    "paleta = random_palette(n)\n",
    "\n",
    "#Creación y guardado del archivo jerárquico para visualización por clusters en Anatomist.\n",
    "write_hie('data/79subjects/inter-clustered_QB_' + str(int(theta)) + '2/QB_' + str(int(theta)) + '.hie', inter_clusters_names, paleta)"
   ]
  },
  {
   "cell_type": "markdown",
   "metadata": {},
   "source": [
    "__Guardado de fibras y centroides de los clusters ínter-sujeto, fraccionados en cada sujeto individual.__"
   ]
  },
  {
   "cell_type": "markdown",
   "metadata": {},
   "source": [
    "Aquí, _clusters.bundles_ se comporta similar a FFClust: las fibras de cada sujeto están subdivididas en clusters determinados por el clustering inter-sujeto realizado por QB.\n",
    "\n",
    "Sin embargo _centroids.bundles_ no es igual que en el caso de FFClust. En ese caso, cada cluster tenía asignado un único centroide (el promedio geométrico de las fibras del cluster). Aquí, cada cluster tiene asignados más de un centroide, que corresponden a todos los centroides intra-sujeto que resultaron agrupados por QB. Es decir, en esencia no son promedios geométricos de los clusters. Esto se corrige posteriormente en otro código."
   ]
  },
  {
   "cell_type": "code",
   "execution_count": 79,
   "metadata": {},
   "outputs": [
    {
     "ename": "KeyboardInterrupt",
     "evalue": "",
     "output_type": "error",
     "traceback": [
      "\u001b[0;31m---------------------------------------------------------------------------\u001b[0m",
      "\u001b[0;31mKeyboardInterrupt\u001b[0m                         Traceback (most recent call last)",
      "\u001b[0;32m<ipython-input-79-0b223d004c90>\u001b[0m in \u001b[0;36m<module>\u001b[0;34m\u001b[0m\n\u001b[1;32m     13\u001b[0m         \u001b[0mos\u001b[0m\u001b[0;34m.\u001b[0m\u001b[0mmakedirs\u001b[0m\u001b[0;34m(\u001b[0m\u001b[0minter_path\u001b[0m \u001b[0;34m+\u001b[0m \u001b[0mname\u001b[0m\u001b[0;34m)\u001b[0m\u001b[0;34m\u001b[0m\u001b[0;34m\u001b[0m\u001b[0m\n\u001b[1;32m     14\u001b[0m \u001b[0;34m\u001b[0m\u001b[0m\n\u001b[0;32m---> 15\u001b[0;31m     \u001b[0mbt3\u001b[0m\u001b[0;34m.\u001b[0m\u001b[0mwrite_bundle_severalbundles\u001b[0m\u001b[0;34m(\u001b[0m\u001b[0minter_path\u001b[0m \u001b[0;34m+\u001b[0m \u001b[0mname\u001b[0m \u001b[0;34m+\u001b[0m \u001b[0;34m'/clusters.bundles'\u001b[0m\u001b[0;34m,\u001b[0m \u001b[0msubs_clusters\u001b[0m\u001b[0;34m[\u001b[0m\u001b[0msub\u001b[0m\u001b[0;34m]\u001b[0m\u001b[0;34m,\u001b[0m \u001b[0msubs_clusters_names\u001b[0m\u001b[0;34m[\u001b[0m\u001b[0msub\u001b[0m\u001b[0;34m]\u001b[0m\u001b[0;34m)\u001b[0m\u001b[0;34m\u001b[0m\u001b[0;34m\u001b[0m\u001b[0m\n\u001b[0m\u001b[1;32m     16\u001b[0m     \u001b[0mbt3\u001b[0m\u001b[0;34m.\u001b[0m\u001b[0mwrite_bundle_severalbundles\u001b[0m\u001b[0;34m(\u001b[0m\u001b[0minter_path\u001b[0m \u001b[0;34m+\u001b[0m \u001b[0mname\u001b[0m \u001b[0;34m+\u001b[0m \u001b[0;34m'/centroids.bundles'\u001b[0m\u001b[0;34m,\u001b[0m \u001b[0msubs_centroids\u001b[0m\u001b[0;34m[\u001b[0m\u001b[0msub\u001b[0m\u001b[0;34m]\u001b[0m\u001b[0;34m,\u001b[0m \u001b[0msubs_clusters_names\u001b[0m\u001b[0;34m[\u001b[0m\u001b[0msub\u001b[0m\u001b[0;34m]\u001b[0m\u001b[0;34m)\u001b[0m\u001b[0;34m\u001b[0m\u001b[0;34m\u001b[0m\u001b[0m\n\u001b[1;32m     17\u001b[0m \u001b[0;34m\u001b[0m\u001b[0m\n",
      "\u001b[0;32m~/Escritorio/HDD/Ubuntu/Chris/MT/inter-bundle-master/codes/isaias_clustering/Brain_fiber_clustering/utils/bundleTools3.py\u001b[0m in \u001b[0;36mwrite_bundle_severalbundles\u001b[0;34m(outfile, points, bundles)\u001b[0m\n\u001b[1;32m    246\u001b[0m     \u001b[0;32mfor\u001b[0m \u001b[0mi\u001b[0m \u001b[0;32min\u001b[0m \u001b[0mrange\u001b[0m\u001b[0;34m(\u001b[0m \u001b[0msize\u001b[0m \u001b[0;34m)\u001b[0m\u001b[0;34m:\u001b[0m\u001b[0;34m\u001b[0m\u001b[0;34m\u001b[0m\u001b[0m\n\u001b[1;32m    247\u001b[0m \u001b[0;34m\u001b[0m\u001b[0m\n\u001b[0;32m--> 248\u001b[0;31m       \u001b[0mf\u001b[0m\u001b[0;34m.\u001b[0m\u001b[0mwrite\u001b[0m\u001b[0;34m(\u001b[0m \u001b[0mN\u001b[0m\u001b[0;34m.\u001b[0m\u001b[0marray\u001b[0m\u001b[0;34m(\u001b[0m \u001b[0;34m[\u001b[0m \u001b[0mlen\u001b[0m\u001b[0;34m(\u001b[0m \u001b[0mbun\u001b[0m\u001b[0;34m[\u001b[0m \u001b[0mi\u001b[0m \u001b[0;34m]\u001b[0m \u001b[0;34m)\u001b[0m \u001b[0;34m]\u001b[0m\u001b[0;34m,\u001b[0m \u001b[0mN\u001b[0m\u001b[0;34m.\u001b[0m\u001b[0mint32\u001b[0m \u001b[0;34m)\u001b[0m\u001b[0;34m.\u001b[0m\u001b[0mtostring\u001b[0m\u001b[0;34m(\u001b[0m\u001b[0;34m)\u001b[0m \u001b[0;34m)\u001b[0m\u001b[0;34m\u001b[0m\u001b[0;34m\u001b[0m\u001b[0m\n\u001b[0m\u001b[1;32m    249\u001b[0m       \u001b[0mf\u001b[0m\u001b[0;34m.\u001b[0m\u001b[0mwrite\u001b[0m\u001b[0;34m(\u001b[0m \u001b[0mbun\u001b[0m\u001b[0;34m[\u001b[0m \u001b[0mi\u001b[0m \u001b[0;34m]\u001b[0m\u001b[0;34m.\u001b[0m\u001b[0mravel\u001b[0m\u001b[0;34m(\u001b[0m\u001b[0;34m)\u001b[0m\u001b[0;34m.\u001b[0m\u001b[0mtostring\u001b[0m\u001b[0;34m(\u001b[0m\u001b[0;34m)\u001b[0m \u001b[0;34m)\u001b[0m\u001b[0;34m\u001b[0m\u001b[0;34m\u001b[0m\u001b[0m\n\u001b[1;32m    250\u001b[0m   \u001b[0mf\u001b[0m\u001b[0;34m.\u001b[0m\u001b[0mclose\u001b[0m\u001b[0;34m(\u001b[0m\u001b[0;34m)\u001b[0m\u001b[0;34m\u001b[0m\u001b[0;34m\u001b[0m\u001b[0m\n",
      "\u001b[0;31mKeyboardInterrupt\u001b[0m: "
     ]
    }
   ],
   "source": [
    "import os\n",
    "import utils.bundleTools3 as bt3\n",
    "\n",
    "inter_path = 'data/79subjects/inter-clustered_QB_' + str(int(theta)) + '/'\n",
    "\n",
    "for sub in subs_clusters.keys():\n",
    "    if sub < 10:\n",
    "        name = '00' + str(sub)\n",
    "    else:\n",
    "        name = '0' + str(sub)\n",
    "    \n",
    "    if not os.path.exists(inter_path + name):\n",
    "        os.makedirs(inter_path + name)\n",
    "    \n",
    "    bt3.write_bundle_severalbundles(inter_path + name + '/clusters.bundles', subs_clusters[sub], subs_clusters_names[sub])\n",
    "    bt3.write_bundle_severalbundles(inter_path + name + '/centroids.bundles', subs_centroids[sub], subs_clusters_names[sub])\n",
    "    "
   ]
  },
  {
   "cell_type": "markdown",
   "metadata": {},
   "source": [
    "También guardamos las fibras de los clusters ínter-sujeto, pero sin fragmentar. También guardamos los centroides; sin embargo, notar que aquí estos sí corresponden al promedio geométrico de las fibras que lo componen, por lo que cada cluster tiene sólo un centroide. "
   ]
  },
  {
   "cell_type": "code",
   "execution_count": 30,
   "metadata": {},
   "outputs": [],
   "source": [
    "qb_valid_clusters = []\n",
    "qb_valid_centroids = []\n",
    "qb_valid_names = []\n",
    "\n",
    "for idx in qb_valid_idx:\n",
    "    \n",
    "    temp = []\n",
    "    for centroid in inter_clusters[idx]:\n",
    "        temp.append(centroid)\n",
    "    qb_valid_clusters.append(temp)\n",
    "    \n",
    "    qb_valid_centroids.append([inter_clusters[idx].centroid])\n",
    "    qb_valid_names.append('cluster_' + str(idx))\n",
    "    \n",
    "bt3.write_bundle_severalbundles(inter_path + 'QB_' + str(int(theta)) + '_centroids.bundles', qb_valid_centroids, qb_valid_names)\n",
    "bt3.write_bundle_severalbundles(inter_path + 'QB_' + str(int(theta)) + '_clusters.bundles', qb_valid_clusters, qb_valid_names)"
   ]
  }
 ],
 "metadata": {
  "kernelspec": {
   "display_name": "Python 3",
   "language": "python",
   "name": "python3"
  },
  "language_info": {
   "codemirror_mode": {
    "name": "ipython",
    "version": 3
   },
   "file_extension": ".py",
   "mimetype": "text/x-python",
   "name": "python",
   "nbconvert_exporter": "python",
   "pygments_lexer": "ipython3",
   "version": "3.6.10"
  }
 },
 "nbformat": 4,
 "nbformat_minor": 4
}
